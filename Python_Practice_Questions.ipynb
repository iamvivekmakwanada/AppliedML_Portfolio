{
 "cells": [
  {
   "cell_type": "markdown",
   "metadata": {
    "id": "GsojRhp3HhUl"
   },
   "source": [
    "Importing Libraries"
   ]
  },
  {
   "cell_type": "code",
   "execution_count": 1,
   "metadata": {
    "id": "sevu4ud1HqEn"
   },
   "outputs": [],
   "source": [
    "from math import sqrt\n",
    "import pdb"
   ]
  },
  {
   "cell_type": "markdown",
   "metadata": {
    "id": "2JTZyraJL2kd"
   },
   "source": [
    "1. Write a function that inputs a number and prints the multiplication table of that number."
   ]
  },
  {
   "cell_type": "code",
   "execution_count": 2,
   "metadata": {
    "colab": {
     "base_uri": "https://localhost:8080/"
    },
    "id": "LKF5x2QCL519",
    "outputId": "a0df2680-65cf-4930-b6f4-c2276bdd7b69"
   },
   "outputs": [
    {
     "name": "stdout",
     "output_type": "stream",
     "text": [
      "Enter the Number: 15\n",
      "Multiplication table for 15 is :  [15, 30, 45, 60, 75, 90, 105, 120, 135, 150]\n"
     ]
    }
   ],
   "source": [
    "#creating list of integers from 1 to 10.\n",
    "num = [1,2,3,4,5,6,7,8,9,10] \n",
    "\n",
    "def Multiplication_table():\n",
    "  \"\"\"\n",
    "  This function prints the multiplication table for an input number\n",
    "  \"\"\"\n",
    "  _number = int(input(\"Enter the Number: \"))\n",
    "  table = list(map(lambda x : x * _number,num))\n",
    "  print(\"Multiplication table for {0} is : \".format(_number),table)\n",
    "\n",
    "#calling a function\n",
    "if __name__ == '__main__':\n",
    "  Multiplication_table()  "
   ]
  },
  {
   "cell_type": "markdown",
   "metadata": {
    "id": "EVyET19LQBkC"
   },
   "source": [
    "2. Write a program to print twin primes less than 1000. If two consecutive odd numbers are\n",
    "both prime then they are known as twin primes."
   ]
  },
  {
   "cell_type": "code",
   "execution_count": 3,
   "metadata": {
    "colab": {
     "base_uri": "https://localhost:8080/"
    },
    "id": "_PZlctawOnwr",
    "outputId": "39308d34-a59f-4005-dcef-aceb12ff2eee"
   },
   "outputs": [
    {
     "name": "stdout",
     "output_type": "stream",
     "text": [
      "Twin Primes are : [(3, 5), (5, 7), (11, 13), (17, 19), (29, 31), (41, 43), (59, 61), (71, 73), (101, 103), (107, 109), (137, 139), (149, 151), (179, 181), (191, 193), (197, 199), (227, 229), (239, 241), (269, 271), (281, 283), (311, 313), (347, 349), (419, 421), (431, 433), (461, 463), (521, 523), (569, 571), (599, 601), (617, 619), (641, 643), (659, 661), (809, 811), (821, 823), (827, 829), (857, 859), (881, 883)]\n"
     ]
    }
   ],
   "source": [
    "twin_primes=[]\n",
    "def get_Primes(_number):\n",
    "  \"\"\"\n",
    "  This function gets all prime numbers between given range.\n",
    "  \"\"\"\n",
    "  for i in range(2,_number):\n",
    "    if (_number % i == 0):\n",
    "      return False\n",
    "      break\n",
    "  else:\n",
    "    return True\n",
    " \n",
    "#try to improve this code before sending.\n",
    "def get_TwinPrimes():\n",
    "\n",
    "  \"\"\"\n",
    "  This funtion gets all twin prime numbers from given list of prime numbers.\n",
    "  \"\"\"\n",
    "  prime_numbers = list(filter(get_Primes,range(2,1000)))\n",
    "  for i in range(0,len(prime_numbers)-1):\n",
    "      if(abs(prime_numbers[i] - prime_numbers[i+1]) == 2):\n",
    "        twin_primes.append(tuple([prime_numbers[i],prime_numbers[i+1]]))\n",
    "\n",
    "  print(\"Twin Primes are :\",twin_primes)\n",
    "\n",
    "if __name__ == '__main__':  \n",
    "  get_TwinPrimes()\n"
   ]
  },
  {
   "cell_type": "markdown",
   "metadata": {
    "id": "J-Xu8u_0Aplo"
   },
   "source": [
    "3. Write a program to find out the prime factors of a number. Example: prime factors of 56 -\n",
    "2, 2, 2, 7"
   ]
  },
  {
   "cell_type": "code",
   "execution_count": 4,
   "metadata": {
    "colab": {
     "base_uri": "https://localhost:8080/"
    },
    "id": "Mnfsf4Xx9Z43",
    "outputId": "9814a5ad-91cc-43cd-e4f0-d2216240a254"
   },
   "outputs": [
    {
     "name": "stdout",
     "output_type": "stream",
     "text": [
      "Enter the number: 56\n",
      "Prime Factorization of 56 is : [2, 2, 2, 7]\n"
     ]
    }
   ],
   "source": [
    "prime_factors = []\n",
    "def Find_primeFactors():\n",
    "\n",
    "  \"\"\"\n",
    "  This function computes the prime factors of a given number.\n",
    "  \"\"\"\n",
    "  _num = int(input(\"Enter the number: \"))\n",
    "  number = _num\n",
    "  for i in range(2,_num):\n",
    "    if(_num % i == 0):\n",
    "      count = 0\n",
    "      while(_num%i ==0):\n",
    "        _num = _num/i\n",
    "        count += 1\n",
    "      prime_factors.extend([i]*count)\n",
    "  print(\"Prime Factorization of {0} is :\".format(number),prime_factors) \n",
    "\n",
    " #calling a function\n",
    "if __name__ == '__main__': \n",
    "  Find_primeFactors()"
   ]
  },
  {
   "cell_type": "markdown",
   "metadata": {
    "id": "wvgARinSSMxQ"
   },
   "source": [
    "4. Write a program to implement these formulae of permutations and combinations.\n",
    "Number of permutations of n objects taken r at a time: p(n, r) = n! / (n-r)!. Number of\n",
    "combinations of n objects taken r at a time is: c(n, r) = n! / (r!*(n-r)!) = p(n,r) / r!"
   ]
  },
  {
   "cell_type": "code",
   "execution_count": 5,
   "metadata": {
    "id": "i3k13UC7SXL2"
   },
   "outputs": [
    {
     "name": "stdout",
     "output_type": "stream",
     "text": [
      "Input n objects : 10\n",
      "Input r objects : 5\n",
      "Permutation of n objects taken r at a time :  30240.0\n",
      "Combination of n objects taken r at a time :  252.0\n"
     ]
    }
   ],
   "source": [
    "def Fact(_num):\n",
    "    \"\"\"\n",
    "    This function computes Factorial of a given number.\n",
    "    \"\"\"\n",
    "    if(_num == 0 or _num == 1):\n",
    "        return 1\n",
    "    else:\n",
    "        return (_num*Fact(_num-1))\n",
    "    \n",
    "    \n",
    "def Perm_Comb():\n",
    "    \"\"\"\n",
    "    This function prints permutation and combination for a given number n and r.\n",
    "    \"\"\"\n",
    "    n=(int(input(\"Input n objects : \")))\n",
    "    r=(int(input(\"Input r objects : \")))\n",
    "    \n",
    "    if(n>r):\n",
    "        \n",
    "        permutation = Fact(n)/Fact(n-r)\n",
    "        print(\"Permutation of n objects taken r at a time : \",permutation)\n",
    "        combination = permutation / Fact(r)\n",
    "        print(\"Combination of n objects taken r at a time : \",combination)\n",
    "    else:\n",
    "        print(\" r objects should be less than or equal to n\")\n",
    " \n",
    "if __name__ == '__main__':\n",
    "    Perm_Comb()"
   ]
  },
  {
   "cell_type": "markdown",
   "metadata": {
    "id": "0RXYiG-3lUjB"
   },
   "source": [
    "5. Write a function that converts a decimal number to binary number"
   ]
  },
  {
   "cell_type": "code",
   "execution_count": 6,
   "metadata": {
    "colab": {
     "base_uri": "https://localhost:8080/"
    },
    "id": "y4FSzy5uaTe8",
    "outputId": "b238c5fc-60ac-44e3-b867-692255ad30f6"
   },
   "outputs": [
    {
     "name": "stdout",
     "output_type": "stream",
     "text": [
      "Enter a Number : 64\n",
      "The Binary representation of 64 is : [1, 0, 0, 0, 0, 0, 0]\n"
     ]
    }
   ],
   "source": [
    "binary_num = []\n",
    "def DectoBinary(_number):\n",
    "  \"\"\"\n",
    "  This function converts a decimal number to binary number\n",
    "  \"\"\"\n",
    "  while(_number > 0):\n",
    "    remainder = _number % 2\n",
    "    _number = _number//2\n",
    "    binary_num.append(remainder)\n",
    "\n",
    "  binary_num.reverse()\n",
    "  \n",
    "if __name__ == '__main__':\n",
    "    _num = int(input(\"Enter a Number : \"))\n",
    "    DectoBinary(_num)\n",
    "    print(\"The Binary representation of {0} is :\".format(_num),binary_num)"
   ]
  },
  {
   "cell_type": "markdown",
   "metadata": {
    "id": "Hs5lUSDIpZXW"
   },
   "source": [
    "6.Write a function cubesum() that accepts an integer and returns the sum of the cubes of\n",
    "individual digits of that number. Use this function to make functions PrintArmstrong() and\n",
    "isArmstrong() to print Armstrong numbers and to find whether is an Armstrong number."
   ]
  },
  {
   "cell_type": "code",
   "execution_count": 7,
   "metadata": {
    "colab": {
     "base_uri": "https://localhost:8080/"
    },
    "id": "NJodiOZDsLZz",
    "outputId": "2dbc3101-3a89-45d3-841e-6b574f114247"
   },
   "outputs": [
    {
     "name": "stdout",
     "output_type": "stream",
     "text": [
      "Enter the Number : 407\n",
      "Entered Number is ArmStrong\n"
     ]
    }
   ],
   "source": [
    "def cubesum(_num):\n",
    "  \"\"\"\n",
    "\n",
    "  This function returns the sum of the cubes of individual digits of the number.\n",
    "  \"\"\"\n",
    "  _List = []\n",
    "  \n",
    "  while(_num):\n",
    "    _List.append((_num%10)**3)\n",
    "    _num=_num//10\n",
    "  _List.reverse()\n",
    "  _sum = sum(_List)\n",
    "  return _sum\n",
    "\n",
    "def PrintArmstrong(flag):\n",
    "  \"\"\"\n",
    "  This function prints Armstrong number.\n",
    "  \"\"\"\n",
    "  print(\"Entered Number is ArmStrong\") if flag==True else print(\"Entered Number is not Armstrong\")\n",
    "\n",
    "def isArmstrong():\n",
    "  \"\"\"\n",
    "  This function checks whether the number is Armstrong or not.\n",
    "  \"\"\"\n",
    "  _num = int(input(\"Enter the Number : \"))\n",
    "  PrintArmstrong( True if(_num == cubesum(_num)) else False)\n",
    "\n",
    "if __name__ == '__main__':\n",
    "  isArmstrong()"
   ]
  },
  {
   "cell_type": "markdown",
   "metadata": {
    "id": "GgBCFkmOqB9v"
   },
   "source": [
    "7.Write a function prodDigits() that inputs a number and returns the product of digits of that\n",
    "number."
   ]
  },
  {
   "cell_type": "code",
   "execution_count": 8,
   "metadata": {
    "colab": {
     "base_uri": "https://localhost:8080/"
    },
    "id": "4je9wTTZNW8q",
    "outputId": "7a5e7eac-f04c-4086-93d1-b776415bd02c"
   },
   "outputs": [
    {
     "name": "stdout",
     "output_type": "stream",
     "text": [
      "Input the Number : 48\n",
      "Product of digits of the number is : 32\n"
     ]
    }
   ],
   "source": [
    "def prodDigits(_num):\n",
    "\n",
    "  \"\"\"\n",
    "\n",
    "  This function returns the product of digits of the number\n",
    "  \"\"\"\n",
    " \n",
    "  prod=1\n",
    "  while(_num>0):\n",
    "    prod = prod * (_num%10)\n",
    "    _num = _num//10\n",
    "  \n",
    "  return prod \n",
    "\n",
    "if __name__ == '__main__':\n",
    "  _num = int(input(\"Input the Number : \"))\n",
    "  prod=prodDigits(_num)\n",
    "  print(\"Product of digits of the number is :\",prod)"
   ]
  },
  {
   "cell_type": "markdown",
   "metadata": {
    "id": "pUUifwRCqJBv"
   },
   "source": [
    "8.If all digits of a number n are multiplied by each other repeating with the product, the one\n",
    "digit number obtained at last is called the multiplicative digital root of n. The number of\n",
    "times digits need to be multiplied to reach one digit is called the multiplicative\n",
    "persistance of n.\n",
    "Example: 86 -> 48 -> 32 -> 6 (MDR 6, MPersistence 3)\n",
    "341 -> 12->2 (MDR 2, MPersistence 2)\n",
    "Using the function prodDigits() of previous exercise write functions MDR() and\n",
    "MPersistence() that input a number and return its multiplicative digital root and\n",
    "multiplicative persistence respectively"
   ]
  },
  {
   "cell_type": "code",
   "execution_count": 9,
   "metadata": {
    "colab": {
     "base_uri": "https://localhost:8080/"
    },
    "id": "Pz60EtGvrgW4",
    "outputId": "6e39d42d-0467-4979-cd67-3e338c58c23b"
   },
   "outputs": [
    {
     "name": "stdout",
     "output_type": "stream",
     "text": [
      "Enter the Number : 86\n",
      "Multiplicative digital root of a number is : 6\n",
      "Multiplicative persistance a number is : 3\n"
     ]
    }
   ],
   "source": [
    "def MDR(_num):\n",
    "  \"\"\"\n",
    "\n",
    "  This function computes the multiplicative digital root of a number.\n",
    "  \"\"\"\n",
    "  \n",
    "  while(_num > 10):\n",
    "    _num=prodDigits(_num)\n",
    "  \n",
    "  print(\"Multiplicative digital root of a number is :\",_num)\n",
    "\n",
    "def MPersistance(_num):\n",
    "  \"\"\"\n",
    "  This function computes the multiplicative persistance of a given number.\n",
    "  \"\"\"\n",
    "  i=0\n",
    "  while(_num > 10):\n",
    "    i+=1\n",
    "    _num=prodDigits(_num)\n",
    "  print(\"Multiplicative persistance a number is :\",i)\n",
    "\n",
    "if __name__ == '__main__':\n",
    "  _num = int(input(\"Enter the Number : \"))\n",
    "  MDR(_num)\n",
    "  MPersistance(_num)"
   ]
  },
  {
   "cell_type": "markdown",
   "metadata": {
    "id": "D-0L2KV6qgAn"
   },
   "source": [
    "9.Write a function sumPdivisors() that finds the sum of proper divisors of a number. Proper\n",
    "divisors of a number are those numbers by which the number is divisible, except the\n",
    "number itself. For example proper divisors of 36 are 1, 2, 3, 4, 6, 9, 18"
   ]
  },
  {
   "cell_type": "code",
   "execution_count": 10,
   "metadata": {
    "colab": {
     "base_uri": "https://localhost:8080/"
    },
    "id": "PgSm8lPjZcOI",
    "outputId": "09f040fc-357a-4138-81da-d9fa6b7ca441"
   },
   "outputs": [
    {
     "name": "stdout",
     "output_type": "stream",
     "text": [
      "Enter the Number : 36\n",
      "The Sum of proper divisor of a number is :  55\n"
     ]
    }
   ],
   "source": [
    "def sumPdivisors(_num):\n",
    "  \"\"\"\n",
    "\n",
    "  This function finds the sum of proper divisor of a number.\n",
    "  \"\"\"\n",
    "  sum = 0\n",
    "  for i in range(1,int((_num)/2)+1):\n",
    "    if(_num%i ==0):\n",
    "      sum=sum+i\n",
    "      #print(i)\n",
    "  print(\"The Sum of proper divisor of a number is : \",sum)\n",
    "\n",
    "if __name__ == '__main__':\n",
    "  sumPdivisors(int(input(\"Enter the Number : \")))"
   ]
  },
  {
   "cell_type": "markdown",
   "metadata": {
    "id": "d8g1U6tXqh_v"
   },
   "source": [
    "10.A number is called perfect if the sum of proper divisors of that number is equal to the\n",
    "number. For example 28 is perfect number, since 1+2+4+7+14=28. Write a program to\n",
    "print all the perfect numbers in a given range"
   ]
  },
  {
   "cell_type": "code",
   "execution_count": 11,
   "metadata": {
    "colab": {
     "base_uri": "https://localhost:8080/"
    },
    "id": "ULCQxVKH5SOp",
    "outputId": "aeda1e96-3ecb-4877-e1e4-8127d6137cd0"
   },
   "outputs": [
    {
     "name": "stdout",
     "output_type": "stream",
     "text": [
      "[6, 28, 496, 8128]\n"
     ]
    }
   ],
   "source": [
    "def perfectNumber(_num):\n",
    "  \"\"\"\n",
    "\n",
    "  This function print all the perfect numbers in a given range\n",
    "  \"\"\"\n",
    "  sum = 0\n",
    "  for i in range(1,int((_num)/2)+1):\n",
    "    if(_num%i ==0):\n",
    "      sum=sum+i\n",
    "  #print(sum)\n",
    "\n",
    "  return True if(_num==sum) else False\n",
    "\n",
    "if __name__ == '__main__':\n",
    "    perfectno_list = list(filter(perfectNumber,range(1,10000)))  \n",
    "    print(perfectno_list)  "
   ]
  },
  {
   "cell_type": "markdown",
   "metadata": {
    "id": "gsGiNxfZqlsx"
   },
   "source": [
    "11.Two different numbers are called amicable numbers if the sum of the proper divisors of\n",
    "each is equal to the other number. For example 220 and 284 are amicable numbers.\n",
    "\n",
    "---\n",
    "\n",
    "Sum of proper divisors of 220 = 1+2+4+5+10+11+20+22+44+55+110 = 284\n",
    "Sum of proper divisors of 284 = 1+2+4+71+142 = 220\n",
    "Write a function to print pairs of amicable numbers in a range"
   ]
  },
  {
   "cell_type": "code",
   "execution_count": 12,
   "metadata": {
    "colab": {
     "base_uri": "https://localhost:8080/"
    },
    "id": "zy-2ewHc5o4Y",
    "outputId": "f85e4aa9-b196-4cbb-8676-ada1cb164941"
   },
   "outputs": [
    {
     "name": "stdout",
     "output_type": "stream",
     "text": [
      "Enter the Range : 10000\n",
      "Pairs of Amicable numbers in given range :  [(1184, 1210), (220, 284), (5020, 5564), (6232, 6368), (2620, 2924)]\n"
     ]
    }
   ],
   "source": [
    "def Sumofproper_div(_number):\n",
    "    sum=0\n",
    "    for i in range(1,int((_number)/2)+1):\n",
    "        if(_number%i ==0):\n",
    "            sum=sum+i\n",
    "    return sum\n",
    "\n",
    "amicable_pairs =[]\n",
    "def amicableNum():\n",
    "    _num = int(input(\"Enter the Range : \"))\n",
    "    for i in range(1,_num+1):\n",
    "        #pdb.set_trace()\n",
    "        _num1 = Sumofproper_div(i)\n",
    "        #print(_num1)\n",
    "        if (_num1 != i):\n",
    "            _num2 = Sumofproper_div(_num1)\n",
    "            #print(_num1,_num2)\n",
    "            if(i == _num2):\n",
    "                amicable_pairs.append(tuple(sorted([_num1,_num2])))\n",
    "    \n",
    "    print(\"Pairs of Amicable numbers in given range : \",list(set(amicable_pairs)))   \n",
    "        \n",
    "\n",
    "\n",
    "if __name__ == '__main__':\n",
    "    amicableNum()\n",
    "     \n",
    "  "
   ]
  },
  {
   "cell_type": "markdown",
   "metadata": {
    "id": "WRqtMoVCqysJ"
   },
   "source": [
    "12.Write a program which can filter odd numbers in a list by using filter function"
   ]
  },
  {
   "cell_type": "code",
   "execution_count": 13,
   "metadata": {
    "colab": {
     "base_uri": "https://localhost:8080/"
    },
    "id": "gmclGhjYvSlB",
    "outputId": "79b834fb-9529-4b23-bde4-3400e7ede63e"
   },
   "outputs": [
    {
     "name": "stdout",
     "output_type": "stream",
     "text": [
      "Odd Numbers are : [1, 3, 5, 7, 9, 11, 13, 15, 17, 19]\n"
     ]
    }
   ],
   "source": [
    "def filter_Oddnumbers(_num):\n",
    "  \"\"\"\n",
    "\n",
    "  This function filters odd numbers from a list.\n",
    "  \"\"\"\n",
    "  return True if(_num %2==1) else False\n",
    "\n",
    "\n",
    "if __name__ == '__main__':\n",
    "  odd_num = list(filter(filter_Oddnumbers,range(1,20)))\n",
    "  print(\"Odd Numbers are :\",odd_num)"
   ]
  },
  {
   "cell_type": "markdown",
   "metadata": {
    "id": "guzVfs0VrkI_"
   },
   "source": [
    "13.Write a program which can map() to make a list whose elements are cube of elements in\n",
    "a given list"
   ]
  },
  {
   "cell_type": "code",
   "execution_count": 14,
   "metadata": {
    "colab": {
     "base_uri": "https://localhost:8080/"
    },
    "id": "NazINV6u2t6A",
    "outputId": "88a66bab-ca4d-4b97-fc9f-1b1686670bdc"
   },
   "outputs": [
    {
     "name": "stdout",
     "output_type": "stream",
     "text": [
      "Cube of Elements in Given list : [1, 8, 27, 64, 125, 216, 343, 512, 729, 1000]\n"
     ]
    }
   ],
   "source": [
    "Cube_ofNum = list(map(lambda x: x*x*x,range(1,11)))\n",
    "print(\"Cube of Elements in Given list :\",Cube_ofNum)"
   ]
  },
  {
   "cell_type": "markdown",
   "metadata": {
    "id": "CfVZ6R5DrnD-"
   },
   "source": [
    "14.Write a program which can map() and filter() to make a list whose elements are cube of\n",
    "even number in a given list"
   ]
  },
  {
   "cell_type": "code",
   "execution_count": 15,
   "metadata": {
    "colab": {
     "base_uri": "https://localhost:8080/"
    },
    "id": "2VfVS0fm0qkB",
    "outputId": "a221501a-e829-46fc-efee-5e68bc1f6a6e"
   },
   "outputs": [
    {
     "name": "stdout",
     "output_type": "stream",
     "text": [
      "Cubes of Numbers in a list : [1, 8, 27, 64, 125, 216, 343, 512, 729, 1000]\n",
      "Cubes of Even Numbers in a list : [8, 64, 216, 512, 1000]\n"
     ]
    }
   ],
   "source": [
    "Cube_ofNum = list(map(lambda x: x*x*x,range(1,11)))\n",
    "Even_numcube = list(filter(lambda x:x%2==0,Cube_ofNum))\n",
    "print(\"Cubes of Numbers in a list :\",Cube_ofNum)\n",
    "print(\"Cubes of Even Numbers in a list :\",Even_numcube)"
   ]
  }
 ],
 "metadata": {
  "colab": {
   "collapsed_sections": [],
   "name": "Python Practice Questions.ipynb",
   "provenance": []
  },
  "kernelspec": {
   "display_name": "Python 3",
   "language": "python",
   "name": "python3"
  },
  "language_info": {
   "codemirror_mode": {
    "name": "ipython",
    "version": 3
   },
   "file_extension": ".py",
   "mimetype": "text/x-python",
   "name": "python",
   "nbconvert_exporter": "python",
   "pygments_lexer": "ipython3",
   "version": "3.6.5"
  }
 },
 "nbformat": 4,
 "nbformat_minor": 1
}
